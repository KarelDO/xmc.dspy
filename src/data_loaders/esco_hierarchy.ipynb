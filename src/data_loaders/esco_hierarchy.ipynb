{
 "cells": [
  {
   "cell_type": "code",
   "execution_count": 45,
   "metadata": {},
   "outputs": [],
   "source": [
    "from os import path\n",
    "import pandas as pd"
   ]
  },
  {
   "cell_type": "code",
   "execution_count": 67,
   "metadata": {},
   "outputs": [],
   "source": [
    "local_esco_dir = '/Users/kldooste/Documents/work/ESCO dataset - v1.1.1 - classification - en - csv'\n",
    "labels_file = path.join(local_esco_dir, 'skills_en.csv')\n",
    "hierarchy_file = path.join(local_esco_dir, 'skillsHierarchy_en.csv')\n",
    "output_echo_dir = '/Users/kldooste/Documents/work/xmc.dspy/data/esco/'\n",
    "output_description_file = path.join(output_echo_dir, 'skills_en_description.txt')"
   ]
  },
  {
   "cell_type": "code",
   "execution_count": 68,
   "metadata": {},
   "outputs": [],
   "source": [
    "labels_df = pd.read_csv(labels_file)\n",
    "hierarchy_df = pd.read_csv(hierarchy_file)"
   ]
  },
  {
   "cell_type": "markdown",
   "metadata": {},
   "source": [
    "### Save descriptions for every term"
   ]
  },
  {
   "cell_type": "code",
   "execution_count": 77,
   "metadata": {},
   "outputs": [],
   "source": [
    "descriptions = labels_df['description']\n",
    "descriptions = descriptions.apply(lambda x: x.replace('\\n', ''))\n",
    "\n",
    "#TODO: fix leading and trailing quotes\n",
    "descriptions.to_csv(output_description_file, index=False, header=False)\n",
    "\n",
    "# remove final newline\n",
    "with open(output_description_file, 'rb+') as file:\n",
    "    file.seek(-1, 2)\n",
    "    file.truncate()"
   ]
  }
 ],
 "metadata": {
  "kernelspec": {
   "display_name": "xmc",
   "language": "python",
   "name": "python3"
  },
  "language_info": {
   "codemirror_mode": {
    "name": "ipython",
    "version": 3
   },
   "file_extension": ".py",
   "mimetype": "text/x-python",
   "name": "python",
   "nbconvert_exporter": "python",
   "pygments_lexer": "ipython3",
   "version": "3.10.13"
  }
 },
 "nbformat": 4,
 "nbformat_minor": 2
}
